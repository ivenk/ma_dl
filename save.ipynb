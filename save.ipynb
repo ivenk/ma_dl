{
 "cells": [
  {
   "cell_type": "markdown",
   "metadata": {},
   "source": [
    "# Colab and drive"
   ]
  },
  {
   "cell_type": "code",
   "execution_count": null,
   "metadata": {},
   "outputs": [],
   "source": [
    "!pip install PyDrive"
   ]
  },
  {
   "cell_type": "code",
   "execution_count": null,
   "metadata": {},
   "outputs": [],
   "source": [
    "from pydrive.auth import GoogleAuth\n",
    "from pydrive.drive import GoogleDrive\n",
    "from google.colab import auth\n",
    "from oauth2client.client import GoogleCredentials"
   ]
  },
  {
   "cell_type": "code",
   "execution_count": null,
   "metadata": {},
   "outputs": [],
   "source": [
    "auth.authenticate_user()\n",
    "gauth = GoogleAuth()\n",
    "gauth.credentials = GoogleCredentials.get_application_default()\n",
    "drive = GoogleDrive(gauth)"
   ]
  },
  {
   "cell_type": "code",
   "execution_count": null,
   "metadata": {},
   "outputs": [],
   "source": [
    "downloaded = drive.CreateFile({'id':\"1qQw8ecr4L7zk36ylac-ak7znh-1lIOfg\"})   # replace the id with id of file you want to access\n",
    "downloaded.GetContentFile('lfw3.out.zip') "
   ]
  },
  {
   "cell_type": "markdown",
   "metadata": {},
   "source": [
    "# Code save"
   ]
  },
  {
   "cell_type": "code",
   "execution_count": null,
   "metadata": {},
   "outputs": [],
   "source": [
    "class MultiClass(nn.Sequential):\n",
    "    \n",
    "    def __init__(self, input_dim=512, hidden_layers=5, output_dim=128):\n",
    "        super(MultiClass, self).__init__()\n",
    "\n",
    "        layers = [\n",
    "            (\"cf1\" , nn.Linear(input_dim, input_dim)),\n",
    "            (\"r1\"  , nn.ReLU()),\n",
    "            (\"cf1\" , nn.Linear(input_dim, input_dim)),\n",
    "            (\"r1\"  , nn.ReLU()),\n",
    "            (\"cf1\" , nn.Linear(input_dim, input_dim)),\n",
    "            (\"r1\"  , nn.ReLU()),\n",
    "            (\"cf1\" , nn.Linear(input_dim, input_dim)),\n",
    "            (\"r1\"  , nn.ReLU()),\n",
    "            (\"cf1\" , nn.Linear(input_dim, output_dim)),\n",
    "        ]\n",
    "        \n",
    "        [self.add_module(name, layer) for (name, layer) in layers]\n",
    "        \n",
    "    def classifier(self,z):\n",
    "        return nn.functional.softmax(self(z))"
   ]
  },
  {
   "cell_type": "code",
   "execution_count": null,
   "metadata": {},
   "outputs": [],
   "source": [
    "class ToTensor(object):\n",
    "    \"\"\"Convert ndarrays in sample to Tensors.\"\"\"\n",
    "\n",
    "    def __call__(self, sample):\n",
    "        image, labels = sample['image'], sample['labels']\n",
    "\n",
    "        # swap color axis because\n",
    "        # numpy image: H x W x C\n",
    "        # torch image: C X H X W\n",
    "        image = image.transpose((2, 0, 1))\n",
    "        return {'image': torch.from_numpy(image),\n",
    "                'labels': torch.from_numpy(labels)}"
   ]
  },
  {
   "cell_type": "code",
   "execution_count": null,
   "metadata": {},
   "outputs": [],
   "source": [
    "def collate_fn(x):\n",
    "    return x[0]"
   ]
  },
  {
   "cell_type": "code",
   "execution_count": null,
   "metadata": {},
   "outputs": [],
   "source": [
    "dataset = datasets.ImageFolder('./lfw.out/')\n",
    "dataset.idx_to_class = {i:c for c, i in dataset.class_to_idx.items()}\n",
    "loader = DataLoader(dataset, collate_fn=collate_fn)"
   ]
  },
  {
   "cell_type": "markdown",
   "metadata": {},
   "source": [
    "# Datasets and stuff"
   ]
  },
  {
   "cell_type": "code",
   "execution_count": null,
   "metadata": {},
   "outputs": [],
   "source": [
    "valid_pct = 0.2\n",
    "valid_size = int(len(full_ds) * valid_pct)\n",
    "train_size = int(len(full_ds) - valid_size)\n",
    "train_ds, valid_ds = torch.utils.data.random_split(full_ds, [train_size, valid_size])\n",
    "\n",
    "train_dl = DataLoader(train_ds, batch_size=10, num_workers=4) # missing parameters\n",
    "valid_dl = DataLoader(valid_ds, batch_size=10, num_workers=4) # missing parameters"
   ]
  }
 ],
 "metadata": {
  "kernelspec": {
   "display_name": "Python 3",
   "language": "python",
   "name": "python3"
  },
  "language_info": {
   "codemirror_mode": {
    "name": "ipython",
    "version": 3
   },
   "file_extension": ".py",
   "mimetype": "text/x-python",
   "name": "python",
   "nbconvert_exporter": "python",
   "pygments_lexer": "ipython3",
   "version": "3.7.4"
  }
 },
 "nbformat": 4,
 "nbformat_minor": 2
}
